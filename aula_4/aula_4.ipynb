{
 "cells": [
  {
   "cell_type": "code",
   "execution_count": null,
   "metadata": {},
   "outputs": [],
   "source": [
    "#funções do python"
   ]
  },
  {
   "cell_type": "code",
   "execution_count": null,
   "metadata": {},
   "outputs": [],
   "source": [
    "def quadrado(n):\n",
    "    resultado = n ** 2\n",
    "    return resultado"
   ]
  },
  {
   "cell_type": "code",
   "execution_count": null,
   "metadata": {},
   "outputs": [],
   "source": [
    "quadrado(18)"
   ]
  },
  {
   "cell_type": "code",
   "execution_count": null,
   "metadata": {},
   "outputs": [],
   "source": [
    "def msg():\n",
    "    print('passou por aqui com sucesso!')"
   ]
  },
  {
   "cell_type": "code",
   "execution_count": null,
   "metadata": {},
   "outputs": [],
   "source": [
    "####\n",
    "###\n",
    "###\n",
    "msg()\n",
    "#######\n",
    "\n",
    "##\n",
    "\n",
    "\n",
    "msg()"
   ]
  },
  {
   "cell_type": "code",
   "execution_count": null,
   "metadata": {},
   "outputs": [],
   "source": [
    "def soma(a,b,c,d,e):\n",
    "    print('entrei na função')\n",
    "    return a + b + c + d + e\n",
    "    print('uma mensagem qualquer')"
   ]
  },
  {
   "cell_type": "code",
   "execution_count": null,
   "metadata": {},
   "outputs": [],
   "source": [
    "soma(1,2,3,4,5)"
   ]
  },
  {
   "cell_type": "code",
   "execution_count": null,
   "metadata": {},
   "outputs": [],
   "source": [
    "def x(n):\n",
    "    if n % 2 == 0:\n",
    "        return 'Par'\n",
    "    else:\n",
    "        return 'impar'"
   ]
  },
  {
   "cell_type": "code",
   "execution_count": null,
   "metadata": {},
   "outputs": [],
   "source": [
    "x(2)"
   ]
  },
  {
   "cell_type": "code",
   "execution_count": null,
   "metadata": {},
   "outputs": [],
   "source": [
    "def tabuada(n):\n",
    "    for tabuada in range(0,n+1):\n",
    "        for i in range(0,11):\n",
    "            print('%d X %d = %d' %(tabuada,i,tabuada*i))\n",
    "        print('_'*30)"
   ]
  },
  {
   "cell_type": "code",
   "execution_count": null,
   "metadata": {},
   "outputs": [],
   "source": [
    "list(range(10))"
   ]
  },
  {
   "cell_type": "code",
   "execution_count": null,
   "metadata": {},
   "outputs": [],
   "source": [
    "tabuada(3)"
   ]
  },
  {
   "cell_type": "code",
   "execution_count": null,
   "metadata": {},
   "outputs": [],
   "source": [
    "for i in range(n):\n",
    "    p1 = float(input('primeira nota:'))\n",
    "    p2 = float(input('segunda nota'))\n",
    "    p3 = float(input('terceira nota'))\n",
    "    #calcular médias\n",
    "    media = (2 * p1 + 3 * p2 + 5 * p3) /10.0\n",
    "    if media >= 7.0 :\n",
    "        print('aprovado com nota %.2f' %(media))\n",
    "    elif media < 7.0 and media >= 5.0:\n",
    "        print('exame com nota %.2f' %(media))\n",
    "    else:\n",
    "        print('reprovado com nota %.2f' %(media))"
   ]
  },
  {
   "cell_type": "code",
   "execution_count": null,
   "metadata": {},
   "outputs": [],
   "source": [
    "def calcula_media(p1,p2,p3):\n",
    "    media = (2 * p1 + 3 * p2 + 5 * p3) /10.0\n",
    "    if media >= 7.0 :\n",
    "        return 'aprovado com nota ' + str(media)\n",
    "    elif media < 7.0 and media >= 5.0:\n",
    "        return 'exame com nota ' + str(media)\n",
    "    else:\n",
    "        return 'reprovado com nota ' + str(media)\n",
    "    "
   ]
  },
  {
   "cell_type": "code",
   "execution_count": null,
   "metadata": {},
   "outputs": [],
   "source": [
    "calcula_media(8,7.5,6)"
   ]
  },
  {
   "cell_type": "code",
   "execution_count": null,
   "metadata": {},
   "outputs": [],
   "source": [
    "leds = {'1':2\n",
    "        ,'2':5\n",
    "        ,'3':5\n",
    "        ,'4':4\n",
    "        ,'5':5\n",
    "        ,'6':6\n",
    "        ,'7':3\n",
    "        ,'8':7\n",
    "        ,'9':6\n",
    "        ,'0':6\n",
    "       }\n",
    "n = int(input())\n",
    "for i in range(n):\n",
    "    numero = input()\n",
    "    total = 0\n",
    "    for j in numero:\n",
    "        total = total + leds[j]\n",
    "    print('%d leds' %(total))\n",
    "        "
   ]
  },
  {
   "cell_type": "code",
   "execution_count": null,
   "metadata": {},
   "outputs": [],
   "source": [
    "#calcula area de quadrado ou retangulo na mesma funcao\n",
    "#area do quadrado l**2\n",
    "#area do retangulo b*h\n",
    "#argumentos não obrigatórios sempre depois dos obrigatórios"
   ]
  },
  {
   "cell_type": "code",
   "execution_count": null,
   "metadata": {},
   "outputs": [],
   "source": [
    "def calc_area(b,h=0):\n",
    "    if h == 0:\n",
    "        return b ** 2\n",
    "    else:\n",
    "        return b * h"
   ]
  },
  {
   "cell_type": "code",
   "execution_count": null,
   "metadata": {},
   "outputs": [],
   "source": [
    "calc_area(3)"
   ]
  },
  {
   "cell_type": "code",
   "execution_count": null,
   "metadata": {},
   "outputs": [],
   "source": [
    "#variavel global e variavel local"
   ]
  },
  {
   "cell_type": "code",
   "execution_count": null,
   "metadata": {},
   "outputs": [],
   "source": [
    "#funções como argumento\n",
    "#calcular area do triangulo, retangulo ou quadrado"
   ]
  },
  {
   "cell_type": "code",
   "execution_count": null,
   "metadata": {},
   "outputs": [],
   "source": [
    "def quadrado(n):\n",
    "    return n ** 2"
   ]
  },
  {
   "cell_type": "code",
   "execution_count": null,
   "metadata": {},
   "outputs": [],
   "source": [
    "def retangulo(b,h):\n",
    "    return b * h"
   ]
  },
  {
   "cell_type": "code",
   "execution_count": null,
   "metadata": {},
   "outputs": [],
   "source": [
    "def tri(b,h):\n",
    "    return (b * h) / 2"
   ]
  },
  {
   "cell_type": "code",
   "execution_count": null,
   "metadata": {},
   "outputs": [],
   "source": [
    "def calc_area(func,a,b=-1):\n",
    "    if b == -1:\n",
    "        return func(a)\n",
    "    else:\n",
    "        return func(a,b)"
   ]
  },
  {
   "cell_type": "code",
   "execution_count": null,
   "metadata": {},
   "outputs": [],
   "source": [
    "calc_area(tri,1,4)"
   ]
  },
  {
   "cell_type": "code",
   "execution_count": null,
   "metadata": {},
   "outputs": [],
   "source": [
    "exemplo = quadrado"
   ]
  },
  {
   "cell_type": "code",
   "execution_count": null,
   "metadata": {},
   "outputs": [],
   "source": [
    "type(exemplo)"
   ]
  },
  {
   "cell_type": "code",
   "execution_count": null,
   "metadata": {},
   "outputs": [],
   "source": [
    "exemplo(1)"
   ]
  },
  {
   "cell_type": "code",
   "execution_count": null,
   "metadata": {},
   "outputs": [],
   "source": [
    "#args e kargs"
   ]
  },
  {
   "cell_type": "code",
   "execution_count": null,
   "metadata": {},
   "outputs": [],
   "source": [
    "def x(*a):\n",
    "    return a"
   ]
  },
  {
   "cell_type": "code",
   "execution_count": null,
   "metadata": {},
   "outputs": [],
   "source": [
    "x(1,2,3,4)"
   ]
  },
  {
   "cell_type": "code",
   "execution_count": null,
   "metadata": {},
   "outputs": [],
   "source": [
    "def y(**b):\n",
    "    print(\"olá %s\" %(b['nome']))\n",
    "    print('idade %s' %(b['idade']))\n",
    "    return b"
   ]
  },
  {
   "cell_type": "code",
   "execution_count": null,
   "metadata": {},
   "outputs": [],
   "source": [
    "y(idade='24',nome='Bruno',askdmkalms=123123)"
   ]
  },
  {
   "cell_type": "code",
   "execution_count": null,
   "metadata": {},
   "outputs": [],
   "source": [
    "#lista[], dicionario{}, tuple()"
   ]
  },
  {
   "cell_type": "code",
   "execution_count": null,
   "metadata": {},
   "outputs": [],
   "source": [
    "#placar\n",
    "#nomes dos dois jogadores\n",
    "#jogo\n"
   ]
  },
  {
   "cell_type": "code",
   "execution_count": null,
   "metadata": {},
   "outputs": [],
   "source": [
    "#variaveis globais \n",
    "placar_atual = [0,0]"
   ]
  },
  {
   "cell_type": "code",
   "execution_count": null,
   "metadata": {},
   "outputs": [],
   "source": [
    "def jogo(p1,p2):\n",
    "    possibilidades = {\n",
    "        'pedra papel':2\n",
    "        ,'pedra tesoura': 1\n",
    "        ,'pedra pedra': 0\n",
    "\n",
    "        ,'tesoura papel':1\n",
    "        ,'tesoura tesoura':0\n",
    "        ,'tesoura pedra':2\n",
    "\n",
    "        ,'papel papel':0\n",
    "        ,'papel tesoura':2\n",
    "        ,'papel pedra':1\n",
    "    }\n",
    "    #if possibilidades.get(p1 + ' ' + p2) == 1:\n",
    "    #    return 1\n",
    "    #elif possibilidades.get(p1 + ' ' + p2) == 2:\n",
    "    #    return 2\n",
    "    #elif possibilidades.get(p1 + ' '+ p2) == 0:\n",
    "    #    return 0\n",
    "    #else:\n",
    "    #    return -1\n",
    "    return possibilidades.get(p1 + ' ' + p2)\n"
   ]
  },
  {
   "cell_type": "code",
   "execution_count": null,
   "metadata": {},
   "outputs": [],
   "source": [
    "def placar(vencedor):\n",
    "    if vencedor == 1:\n",
    "        placar_atual[0] = placar_atual[0] + 1\n",
    "    elif vencedor == 2:\n",
    "        placar_atual[1] = placar_atual[1] + 1\n",
    "    else:\n",
    "        return placar_atual\n",
    "    return placar_atual"
   ]
  },
  {
   "cell_type": "code",
   "execution_count": null,
   "metadata": {},
   "outputs": [],
   "source": [
    "def jogadores():\n",
    "    j1 = input('informe o nome do jogador 1')\n",
    "    j2 = input('informe o nome do jogador 2')\n",
    "    return j1,j2"
   ]
  },
  {
   "cell_type": "code",
   "execution_count": null,
   "metadata": {},
   "outputs": [],
   "source": [
    "def mostra_placar():\n",
    "    print('O jogador %s fez %d pontos' %(j1,placar_atual[0]))\n",
    "    print('O jogador %s fez %d pontos' %(j2,placar_atual[1]))"
   ]
  },
  {
   "cell_type": "code",
   "execution_count": null,
   "metadata": {},
   "outputs": [],
   "source": [
    "j1,j2 = jogadores()"
   ]
  },
  {
   "cell_type": "code",
   "execution_count": null,
   "metadata": {},
   "outputs": [],
   "source": [
    "i = 0\n",
    "while i < 6:\n",
    "    jogada1 = input('jogada 1')\n",
    "    jogada2 = input('jogada 2')\n",
    "    resultado = jogo(jogada1,jogada2)\n",
    "    placar_atual = placar(resultado)\n",
    "    mostra_placar()\n",
    "    i = i + 1"
   ]
  },
  {
   "cell_type": "code",
   "execution_count": 1,
   "metadata": {},
   "outputs": [
    {
     "data": {
      "text/plain": [
       "'__main__'"
      ]
     },
     "execution_count": 1,
     "metadata": {},
     "output_type": "execute_result"
    }
   ],
   "source": [
    "__name__"
   ]
  },
  {
   "cell_type": "code",
   "execution_count": null,
   "metadata": {},
   "outputs": [],
   "source": []
  }
 ],
 "metadata": {
  "kernelspec": {
   "display_name": "Python 3",
   "language": "python",
   "name": "python3"
  },
  "language_info": {
   "codemirror_mode": {
    "name": "ipython",
    "version": 3
   },
   "file_extension": ".py",
   "mimetype": "text/x-python",
   "name": "python",
   "nbconvert_exporter": "python",
   "pygments_lexer": "ipython3",
   "version": "3.6.10"
  }
 },
 "nbformat": 4,
 "nbformat_minor": 4
}
