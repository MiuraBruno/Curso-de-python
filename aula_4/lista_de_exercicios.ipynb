{
 "cells": [
  {
   "cell_type": "code",
   "execution_count": 1,
   "metadata": {},
   "outputs": [],
   "source": [
    "#exercícios referente a todos os comandos passados até o momento"
   ]
  },
  {
   "cell_type": "code",
   "execution_count": 4,
   "metadata": {},
   "outputs": [
    {
     "data": {
      "text/plain": [
       "'\\nnme\\n    com seu nome completo\\nyo \\n    com sua idade(numero inteiro)\\nhobbi\\n    um lista com pelo menos 4 coisas que você gosta muito de fazer \\nskills\\n    um dicionario contendo 3 ferramentas que você sabe na chave com seus \\n    níveis(basico, medio, avançado) como valor\\n'"
      ]
     },
     "execution_count": 4,
     "metadata": {},
     "output_type": "execute_result"
    }
   ],
   "source": [
    "#crie 4 variáveis\n",
    "'''\n",
    "nme\n",
    "    com seu nome completo\n",
    "yo \n",
    "    com sua idade(numero inteiro)\n",
    "hobbi\n",
    "    um lista com pelo menos 4 coisas que você gosta muito de fazer \n",
    "skills\n",
    "    um dicionario contendo 3 ferramentas que você sabe na chave com seus \n",
    "    níveis(basico, medio, avançado) como valor\n",
    "'''"
   ]
  },
  {
   "cell_type": "code",
   "execution_count": 5,
   "metadata": {},
   "outputs": [
    {
     "data": {
      "text/plain": [
       "16"
      ]
     },
     "execution_count": 5,
     "metadata": {},
     "output_type": "execute_result"
    }
   ],
   "source": [
    "#o que deve ser escrito para realizar a operação 2 elevado a 4"
   ]
  },
  {
   "cell_type": "code",
   "execution_count": 6,
   "metadata": {},
   "outputs": [
    {
     "data": {
      "text/plain": [
       "True"
      ]
     },
     "execution_count": 6,
     "metadata": {},
     "output_type": "execute_result"
    }
   ],
   "source": [
    "#quero comparar o resto da divisão de 10 por 3 e verificar se é igual a 1\n",
    "#a resposta é um booleano True or false"
   ]
  },
  {
   "cell_type": "code",
   "execution_count": 9,
   "metadata": {},
   "outputs": [
    {
     "name": "stdout",
     "output_type": "stream",
     "text": [
      "sim\n"
     ]
    }
   ],
   "source": [
    "#a expressão a seguir tem um erro de sintaxe, pode corrigir?\n",
    "if 1 = 1:\n",
    "    print('sim')"
   ]
  },
  {
   "cell_type": "code",
   "execution_count": 11,
   "metadata": {},
   "outputs": [
    {
     "name": "stdout",
     "output_type": "stream",
     "text": [
      "números diferentes\n"
     ]
    }
   ],
   "source": [
    "#a expressão a seguir tem um erro de sintaxe, pode corrigir?\n",
    "if 1 <= 2:\n",
    "    print('números diferentes')\n",
    "else\n",
    "    print('impossivel')"
   ]
  },
  {
   "cell_type": "code",
   "execution_count": 13,
   "metadata": {},
   "outputs": [
    {
     "name": "stdout",
     "output_type": "stream",
     "text": [
      "['nome', 'id', 'endereço', 'status', 'dat_mov']\n"
     ]
    }
   ],
   "source": [
    "#eu tenho um cabeçalho de um CSV onde o delimitador é ;\n",
    "#como pegar essa string e transformar em uma lista onde cada elemento é uma coluna?\n",
    "cabecalho = 'nome;id;endereço;status;dat_mov'\n",
    "print(cabecalho)"
   ]
  },
  {
   "cell_type": "code",
   "execution_count": null,
   "metadata": {},
   "outputs": [],
   "source": [
    "#ler dois numeros guardar cada um em uma variável e exibir a sua soma dividida por 3\n",
    "#se tiver decimal mostrar apenas 3 casas apos a vírgula"
   ]
  },
  {
   "cell_type": "code",
   "execution_count": 19,
   "metadata": {},
   "outputs": [
    {
     "name": "stdout",
     "output_type": "stream",
     "text": [
      "73\n"
     ]
    }
   ],
   "source": [
    "#faça um laço (while ou for) que percorra uma lista até encontrar o elemento 73 e pare\n",
    "#printandoa qual é o indice da lista que está esse elemento\n",
    "#sugestão existe também uma função chama enumerate\n",
    "l = [3,5,18,90,45,73]"
   ]
  },
  {
   "cell_type": "code",
   "execution_count": null,
   "metadata": {},
   "outputs": [],
   "source": []
  }
 ],
 "metadata": {
  "kernelspec": {
   "display_name": "Python 3",
   "language": "python",
   "name": "python3"
  },
  "language_info": {
   "codemirror_mode": {
    "name": "ipython",
    "version": 3
   },
   "file_extension": ".py",
   "mimetype": "text/x-python",
   "name": "python",
   "nbconvert_exporter": "python",
   "pygments_lexer": "ipython3",
   "version": "3.6.10"
  }
 },
 "nbformat": 4,
 "nbformat_minor": 4
}
