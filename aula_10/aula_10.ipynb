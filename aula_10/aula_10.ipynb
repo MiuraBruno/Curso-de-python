{
 "cells": [
  {
   "cell_type": "code",
   "execution_count": 1,
   "metadata": {},
   "outputs": [],
   "source": [
    "#arquivo __init__.py\n",
    "#normalmente um arquivo vazío"
   ]
  },
  {
   "cell_type": "code",
   "execution_count": 2,
   "metadata": {},
   "outputs": [],
   "source": [
    "#c://desktop/projeto/main.py\n",
    "#c://desktop/projeto/auxiliares/my_func.py\n",
    "#c://desktop/projeto/auxiliares/__init__.py"
   ]
  },
  {
   "cell_type": "code",
   "execution_count": 3,
   "metadata": {},
   "outputs": [],
   "source": [
    "#arquivo de configuração"
   ]
  },
  {
   "cell_type": "code",
   "execution_count": 4,
   "metadata": {},
   "outputs": [],
   "source": [
    "#link da documentação oficial do configparser\n",
    "#https://docs.python.org/3/library/configparser.html"
   ]
  },
  {
   "cell_type": "code",
   "execution_count": 5,
   "metadata": {},
   "outputs": [],
   "source": [
    "from configparser import ConfigParser"
   ]
  },
  {
   "cell_type": "code",
   "execution_count": 6,
   "metadata": {},
   "outputs": [],
   "source": [
    "config = ConfigParser()"
   ]
  },
  {
   "cell_type": "code",
   "execution_count": 7,
   "metadata": {},
   "outputs": [
    {
     "name": "stdout",
     "output_type": "stream",
     "text": [
      "<configparser.ConfigParser object at 0x0000017C1C20D5F8>\n"
     ]
    }
   ],
   "source": [
    "print(config)"
   ]
  },
  {
   "cell_type": "code",
   "execution_count": 8,
   "metadata": {},
   "outputs": [],
   "source": [
    "config['configuracoes'] = {'path' : 'c://Desktop','senha':'123456'}"
   ]
  },
  {
   "cell_type": "code",
   "execution_count": 9,
   "metadata": {},
   "outputs": [],
   "source": [
    "config['arquivos'] = {'arq1' : 'iris.csv', 'arq2' : 'salarios.csv', 'arq3' : 'input.txt'}"
   ]
  },
  {
   "cell_type": "code",
   "execution_count": 10,
   "metadata": {},
   "outputs": [],
   "source": [
    "config['Alunos'] = {'nome1': 'anderson', 'nome2': 'Ueda', 'nome3':'Sandro'}"
   ]
  },
  {
   "cell_type": "code",
   "execution_count": 11,
   "metadata": {},
   "outputs": [],
   "source": [
    "with open('config.ini','w') as f:\n",
    "    config.write(f)"
   ]
  },
  {
   "cell_type": "code",
   "execution_count": 12,
   "metadata": {},
   "outputs": [
    {
     "data": {
      "text/plain": [
       "['dev.cfg']"
      ]
     },
     "execution_count": 12,
     "metadata": {},
     "output_type": "execute_result"
    }
   ],
   "source": [
    "parser = ConfigParser()\n",
    "parser.read('dev.cfg')"
   ]
  },
  {
   "cell_type": "code",
   "execution_count": 13,
   "metadata": {},
   "outputs": [
    {
     "data": {
      "text/plain": [
       "['configuracoes', 'arquivos', 'Alunos']"
      ]
     },
     "execution_count": 13,
     "metadata": {},
     "output_type": "execute_result"
    }
   ],
   "source": [
    "parser.sections()"
   ]
  },
  {
   "cell_type": "code",
   "execution_count": 14,
   "metadata": {},
   "outputs": [
    {
     "data": {
      "text/plain": [
       "'c://Desktop'"
      ]
     },
     "execution_count": 14,
     "metadata": {},
     "output_type": "execute_result"
    }
   ],
   "source": [
    "parser.get('configuracoes','path')"
   ]
  },
  {
   "cell_type": "code",
   "execution_count": 15,
   "metadata": {},
   "outputs": [
    {
     "data": {
      "text/plain": [
       "'123456'"
      ]
     },
     "execution_count": 15,
     "metadata": {},
     "output_type": "execute_result"
    }
   ],
   "source": [
    "parser.get('configuracoes','senha')"
   ]
  },
  {
   "cell_type": "code",
   "execution_count": 16,
   "metadata": {},
   "outputs": [
    {
     "data": {
      "text/plain": [
       "['arq1', 'arq2', 'arq3']"
      ]
     },
     "execution_count": 16,
     "metadata": {},
     "output_type": "execute_result"
    }
   ],
   "source": [
    "parser.options('arquivos')"
   ]
  },
  {
   "cell_type": "code",
   "execution_count": 27,
   "metadata": {},
   "outputs": [
    {
     "data": {
      "text/plain": [
       "['nome1', 'nome2', 'nome3']"
      ]
     },
     "execution_count": 27,
     "metadata": {},
     "output_type": "execute_result"
    }
   ],
   "source": [
    "parser.options('Alunos')"
   ]
  },
  {
   "cell_type": "code",
   "execution_count": 17,
   "metadata": {},
   "outputs": [
    {
     "data": {
      "text/plain": [
       "False"
      ]
     },
     "execution_count": 17,
     "metadata": {},
     "output_type": "execute_result"
    }
   ],
   "source": [
    "'x' in parser"
   ]
  },
  {
   "cell_type": "code",
   "execution_count": 18,
   "metadata": {},
   "outputs": [
    {
     "data": {
      "text/plain": [
       "True"
      ]
     },
     "execution_count": 18,
     "metadata": {},
     "output_type": "execute_result"
    }
   ],
   "source": [
    "'arquivos' in parser"
   ]
  },
  {
   "cell_type": "code",
   "execution_count": null,
   "metadata": {},
   "outputs": [],
   "source": []
  },
  {
   "cell_type": "code",
   "execution_count": 19,
   "metadata": {},
   "outputs": [
    {
     "data": {
      "text/plain": [
       "['instrucoes.ini']"
      ]
     },
     "execution_count": 19,
     "metadata": {},
     "output_type": "execute_result"
    }
   ],
   "source": [
    "test = ConfigParser()\n",
    "test.read('instrucoes.ini')"
   ]
  },
  {
   "cell_type": "code",
   "execution_count": 20,
   "metadata": {},
   "outputs": [
    {
     "data": {
      "text/plain": [
       "['Simple Values',\n",
       " 'All Values Are Strings',\n",
       " 'Multiline Values',\n",
       " 'No Values',\n",
       " 'You can use comments',\n",
       " 'Sections Can Be Indented']"
      ]
     },
     "execution_count": 20,
     "metadata": {},
     "output_type": "execute_result"
    }
   ],
   "source": [
    "test.sections()"
   ]
  },
  {
   "cell_type": "code",
   "execution_count": 21,
   "metadata": {},
   "outputs": [
    {
     "data": {
      "text/plain": [
       "['key',\n",
       " 'spaces in keys',\n",
       " 'spaces in values',\n",
       " 'spaces around the delimiter',\n",
       " 'you can also use']"
      ]
     },
     "execution_count": 21,
     "metadata": {},
     "output_type": "execute_result"
    }
   ],
   "source": [
    "test.options('Simple Values')"
   ]
  },
  {
   "cell_type": "code",
   "execution_count": 22,
   "metadata": {},
   "outputs": [
    {
     "data": {
      "text/plain": [
       "'to delimit keys from values'"
      ]
     },
     "execution_count": 22,
     "metadata": {},
     "output_type": "execute_result"
    }
   ],
   "source": [
    "test.get('Simple Values','you can also use')"
   ]
  },
  {
   "cell_type": "code",
   "execution_count": 23,
   "metadata": {},
   "outputs": [
    {
     "data": {
      "text/plain": [
       "[]"
      ]
     },
     "execution_count": 23,
     "metadata": {},
     "output_type": "execute_result"
    }
   ],
   "source": [
    "test.options('You can use comments')"
   ]
  },
  {
   "cell_type": "code",
   "execution_count": 24,
   "metadata": {},
   "outputs": [
    {
     "data": {
      "text/plain": [
       "['BOOLEAN_STATES',\n",
       " 'NONSPACECRE',\n",
       " 'OPTCRE',\n",
       " 'OPTCRE_NV',\n",
       " 'SECTCRE',\n",
       " '_DEFAULT_INTERPOLATION',\n",
       " '_MutableMapping__marker',\n",
       " '_OPT_NV_TMPL',\n",
       " '_OPT_TMPL',\n",
       " '_SECT_TMPL',\n",
       " '__abstractmethods__',\n",
       " '__class__',\n",
       " '__contains__',\n",
       " '__delattr__',\n",
       " '__delitem__',\n",
       " '__dict__',\n",
       " '__dir__',\n",
       " '__doc__',\n",
       " '__eq__',\n",
       " '__format__',\n",
       " '__ge__',\n",
       " '__getattribute__',\n",
       " '__getitem__',\n",
       " '__gt__',\n",
       " '__hash__',\n",
       " '__init__',\n",
       " '__init_subclass__',\n",
       " '__iter__',\n",
       " '__le__',\n",
       " '__len__',\n",
       " '__lt__',\n",
       " '__module__',\n",
       " '__ne__',\n",
       " '__new__',\n",
       " '__reduce__',\n",
       " '__reduce_ex__',\n",
       " '__repr__',\n",
       " '__reversed__',\n",
       " '__setattr__',\n",
       " '__setitem__',\n",
       " '__sizeof__',\n",
       " '__slots__',\n",
       " '__str__',\n",
       " '__subclasshook__',\n",
       " '__weakref__',\n",
       " '_abc_cache',\n",
       " '_abc_negative_cache',\n",
       " '_abc_negative_cache_version',\n",
       " '_abc_registry',\n",
       " '_allow_no_value',\n",
       " '_comment_prefixes',\n",
       " '_convert_to_boolean',\n",
       " '_converters',\n",
       " '_defaults',\n",
       " '_delimiters',\n",
       " '_dict',\n",
       " '_empty_lines_in_values',\n",
       " '_get',\n",
       " '_get_conv',\n",
       " '_handle_error',\n",
       " '_inline_comment_prefixes',\n",
       " '_interpolation',\n",
       " '_join_multiline_values',\n",
       " '_optcre',\n",
       " '_proxies',\n",
       " '_read',\n",
       " '_sections',\n",
       " '_strict',\n",
       " '_unify_values',\n",
       " '_validate_value_types',\n",
       " '_write_section',\n",
       " 'add_section',\n",
       " 'clear',\n",
       " 'converters',\n",
       " 'default_section',\n",
       " 'defaults',\n",
       " 'get',\n",
       " 'getboolean',\n",
       " 'getfloat',\n",
       " 'getint',\n",
       " 'has_option',\n",
       " 'has_section',\n",
       " 'items',\n",
       " 'keys',\n",
       " 'options',\n",
       " 'optionxform',\n",
       " 'pop',\n",
       " 'popitem',\n",
       " 'read',\n",
       " 'read_dict',\n",
       " 'read_file',\n",
       " 'read_string',\n",
       " 'readfp',\n",
       " 'remove_option',\n",
       " 'remove_section',\n",
       " 'sections',\n",
       " 'set',\n",
       " 'setdefault',\n",
       " 'update',\n",
       " 'values',\n",
       " 'write']"
      ]
     },
     "execution_count": 24,
     "metadata": {},
     "output_type": "execute_result"
    }
   ],
   "source": [
    "dir(test)"
   ]
  },
  {
   "cell_type": "code",
   "execution_count": 41,
   "metadata": {},
   "outputs": [
    {
     "data": {
      "text/plain": [
       "float"
      ]
     },
     "execution_count": 41,
     "metadata": {},
     "output_type": "execute_result"
    }
   ],
   "source": [
    "type(test.getfloat('All Values Are Strings','or this'))"
   ]
  },
  {
   "cell_type": "code",
   "execution_count": 49,
   "metadata": {},
   "outputs": [
    {
     "name": "stdout",
     "output_type": "stream",
     "text": [
      "Help on method get in module configparser:\n",
      "\n",
      "get(section, option, *, raw=False, vars=None, fallback=<object object at 0x0000029E9CA83140>) method of configparser.ConfigParser instance\n",
      "    Get an option value for a given section.\n",
      "    \n",
      "    If `vars' is provided, it must be a dictionary. The option is looked up\n",
      "    in `vars' (if provided), `section', and in `DEFAULTSECT' in that order.\n",
      "    If the key is not found and `fallback' is provided, it is used as\n",
      "    a fallback value. `None' can be provided as a `fallback' value.\n",
      "    \n",
      "    If interpolation is enabled and the optional argument `raw' is False,\n",
      "    all interpolations are expanded in the return values.\n",
      "    \n",
      "    Arguments `raw', `vars', and `fallback' are keyword only.\n",
      "    \n",
      "    The section DEFAULT is special.\n",
      "\n"
     ]
    }
   ],
   "source": [
    "help(test.get)"
   ]
  },
  {
   "cell_type": "code",
   "execution_count": 29,
   "metadata": {},
   "outputs": [
    {
     "name": "stdout",
     "output_type": "stream",
     "text": [
      "c://Desktop\n",
      "123456\n",
      "iris.csv\n",
      "salarios.csv\n",
      "input.txt\n",
      "anderson\n",
      "Ueda\n",
      "Sandro\n"
     ]
    }
   ],
   "source": [
    "for section in parser.sections():\n",
    "    for key in parser.options(section):\n",
    "        print(parser.get(section,key))"
   ]
  },
  {
   "cell_type": "code",
   "execution_count": null,
   "metadata": {},
   "outputs": [],
   "source": []
  }
 ],
 "metadata": {
  "kernelspec": {
   "display_name": "Python 3",
   "language": "python",
   "name": "python3"
  },
  "language_info": {
   "codemirror_mode": {
    "name": "ipython",
    "version": 3
   },
   "file_extension": ".py",
   "mimetype": "text/x-python",
   "name": "python",
   "nbconvert_exporter": "python",
   "pygments_lexer": "ipython3",
   "version": "3.6.10"
  }
 },
 "nbformat": 4,
 "nbformat_minor": 4
}
