{
 "cells": [
  {
   "cell_type": "code",
   "execution_count": 1,
   "metadata": {},
   "outputs": [],
   "source": [
    "#5! = 5 * 4 * 3 * 2 * 1"
   ]
  },
  {
   "cell_type": "code",
   "execution_count": null,
   "metadata": {},
   "outputs": [],
   "source": [
    "#for \n",
    "#while"
   ]
  },
  {
   "cell_type": "code",
   "execution_count": 7,
   "metadata": {},
   "outputs": [
    {
     "name": "stdout",
     "output_type": "stream",
     "text": [
      "1\n",
      "11\n",
      "21\n",
      "31\n",
      "41\n",
      "51\n",
      "61\n",
      "71\n",
      "81\n",
      "91\n"
     ]
    }
   ],
   "source": [
    "for incremento in range(1,100,10):\n",
    "    print(incremento)"
   ]
  },
  {
   "cell_type": "code",
   "execution_count": 12,
   "metadata": {},
   "outputs": [
    {
     "name": "stdout",
     "output_type": "stream",
     "text": [
      "digite um numero:12\n",
      "479001600\n"
     ]
    }
   ],
   "source": [
    "n = int(input('digite um numero:'))\n",
    "resposta = 1\n",
    "for i in range(1,n+1):\n",
    "    resposta = resposta * i\n",
    "print(resposta)"
   ]
  },
  {
   "cell_type": "code",
   "execution_count": 6,
   "metadata": {},
   "outputs": [
    {
     "data": {
      "text/plain": [
       "[10,\n",
       " 13,\n",
       " 16,\n",
       " 19,\n",
       " 22,\n",
       " 25,\n",
       " 28,\n",
       " 31,\n",
       " 34,\n",
       " 37,\n",
       " 40,\n",
       " 43,\n",
       " 46,\n",
       " 49,\n",
       " 52,\n",
       " 55,\n",
       " 58,\n",
       " 61,\n",
       " 64,\n",
       " 67,\n",
       " 70,\n",
       " 73,\n",
       " 76,\n",
       " 79,\n",
       " 82,\n",
       " 85,\n",
       " 88,\n",
       " 91,\n",
       " 94,\n",
       " 97]"
      ]
     },
     "execution_count": 6,
     "metadata": {},
     "output_type": "execute_result"
    }
   ],
   "source": [
    "list(range(10,100,3))"
   ]
  },
  {
   "cell_type": "code",
   "execution_count": 2,
   "metadata": {},
   "outputs": [
    {
     "name": "stdout",
     "output_type": "stream",
     "text": [
      "quantos alunos tem na sala?\n",
      "2\n",
      "primeira nota:10\n",
      "segunda nota10\n",
      "terceira nota10\n",
      "aprovado com nota 10.00\n",
      "primeira nota:4\n",
      "segunda nota6\n",
      "terceira nota8\n",
      "exame com nota 6.60\n"
     ]
    }
   ],
   "source": [
    "n = int(input('quantos alunos tem na sala?\\n'))\n",
    "for i in range(n):\n",
    "    p1 = float(input('primeira nota:'))\n",
    "    p2 = float(input('segunda nota'))\n",
    "    p3 = float(input('terceira nota'))\n",
    "    #calcular médias\n",
    "    media = (2 * p1 + 3 * p2 + 5 * p3) /10.0\n",
    "    if media >= 7.0 :\n",
    "        print('aprovado com nota %.2f' %(media))\n",
    "    elif media < 7.0 and media >= 5.0:\n",
    "        print('exame com nota %.2f' %(media))\n",
    "    else:\n",
    "        print('reprovado com nota %.2f' %(media))"
   ]
  },
  {
   "cell_type": "code",
   "execution_count": 7,
   "metadata": {},
   "outputs": [],
   "source": [
    "a = 2\n",
    "b =  1000"
   ]
  },
  {
   "cell_type": "code",
   "execution_count": 10,
   "metadata": {},
   "outputs": [],
   "source": [
    "a,b = b,a"
   ]
  },
  {
   "cell_type": "code",
   "execution_count": 12,
   "metadata": {},
   "outputs": [
    {
     "name": "stdout",
     "output_type": "stream",
     "text": [
      "2\n"
     ]
    }
   ],
   "source": [
    "print(b)"
   ]
  },
  {
   "cell_type": "code",
   "execution_count": 6,
   "metadata": {},
   "outputs": [
    {
     "name": "stdout",
     "output_type": "stream",
     "text": [
      "4950\n"
     ]
    }
   ],
   "source": [
    "# Soma de 1 a 99\n",
    "s = 0\n",
    "for x in range(1, 100):\n",
    "    s = s + x\n",
    "print(s)"
   ]
  },
  {
   "cell_type": "code",
   "execution_count": 36,
   "metadata": {},
   "outputs": [
    {
     "name": "stdout",
     "output_type": "stream",
     "text": [
      "digite um valor6\n",
      "digite outro valor-5\n"
     ]
    }
   ],
   "source": [
    "#uri 1071\n",
    "x = int(input('digite um valor'))\n",
    "y = int(input('digite outro valor'))"
   ]
  },
  {
   "cell_type": "code",
   "execution_count": 37,
   "metadata": {},
   "outputs": [],
   "source": [
    "if x > y:\n",
    "    x,y = y,x\n",
    "soma = 0\n",
    "for i in range(x+1,y):\n",
    "    if i % 2 != 0:\n",
    "        soma = soma + i"
   ]
  },
  {
   "cell_type": "code",
   "execution_count": 40,
   "metadata": {},
   "outputs": [
    {
     "name": "stdout",
     "output_type": "stream",
     "text": [
      "5\n"
     ]
    }
   ],
   "source": []
  },
  {
   "cell_type": "code",
   "execution_count": 32,
   "metadata": {},
   "outputs": [
    {
     "name": "stdout",
     "output_type": "stream",
     "text": [
      "0\n"
     ]
    }
   ],
   "source": [
    "print(soma)"
   ]
  },
  {
   "cell_type": "code",
   "execution_count": 33,
   "metadata": {},
   "outputs": [
    {
     "name": "stdout",
     "output_type": "stream",
     "text": [
      "0\n",
      "1\n",
      "2\n",
      "3\n",
      "4\n",
      "5\n",
      "6\n",
      "7\n",
      "8\n",
      "9\n",
      "10\n"
     ]
    }
   ],
   "source": [
    "#while\n",
    "i = 0 \n",
    "while i <= 10:\n",
    "    print(i)\n",
    "    i = i + 1\n",
    "    "
   ]
  },
  {
   "cell_type": "code",
   "execution_count": 34,
   "metadata": {},
   "outputs": [
    {
     "name": "stdout",
     "output_type": "stream",
     "text": [
      "digite um numero:5\n",
      "120\n"
     ]
    }
   ],
   "source": [
    "n = int(input('digite um numero:'))\n",
    "resposta = 1\n",
    "for i in range(1,n+1):\n",
    "    resposta = resposta * i\n",
    "print(resposta)"
   ]
  },
  {
   "cell_type": "code",
   "execution_count": 35,
   "metadata": {},
   "outputs": [
    {
     "name": "stdout",
     "output_type": "stream",
     "text": [
      "digite um numero:5\n",
      "120\n"
     ]
    }
   ],
   "source": [
    "n = int(input('digite um numero:'))\n",
    "resposta = 1\n",
    "i = 1\n",
    "while i < n + 1:\n",
    "    resposta = resposta * i\n",
    "    i = i + 1\n",
    "print(resposta)\n",
    "    \n"
   ]
  },
  {
   "cell_type": "code",
   "execution_count": 11,
   "metadata": {},
   "outputs": [
    {
     "name": "stdout",
     "output_type": "stream",
     "text": [
      "Digite o primeiro numero inteiro:6\n",
      "Digite o segundo numero inteiro:-5\n",
      "A soma dos numeros impares sao: 5\n"
     ]
    }
   ],
   "source": [
    "x=int(input(\"Digite o primeiro numero inteiro:\"))\n",
    "y=int(input(\"Digite o segundo numero inteiro:\"))\n",
    "\n",
    "soma=1\n",
    "while x>= 0:\n",
    "    if x%2 !=0:\n",
    "        x -=2\n",
    "        soma += x\n",
    "    else:\n",
    "        x= x-1\n",
    "        x -=2\n",
    "        soma += x\n",
    "\n",
    "soma1=1\n",
    "while y >= 0 :\n",
    "    if y%2 != 0 :\n",
    "        y -=2\n",
    "        soma1 += y\n",
    "    else:\n",
    "        y= y-1\n",
    "        y -=2\n",
    "        soma1 +=y\n",
    "\n",
    "soma2= soma + soma1\n",
    "\n",
    "\n",
    "print(\"A soma dos numeros impares sao:\",soma2)"
   ]
  },
  {
   "cell_type": "code",
   "execution_count": 6,
   "metadata": {},
   "outputs": [],
   "source": [
    "i = 0"
   ]
  },
  {
   "cell_type": "code",
   "execution_count": 7,
   "metadata": {},
   "outputs": [],
   "source": [
    "i = i + 1"
   ]
  },
  {
   "cell_type": "code",
   "execution_count": 9,
   "metadata": {},
   "outputs": [],
   "source": [
    "i += 1"
   ]
  },
  {
   "cell_type": "code",
   "execution_count": null,
   "metadata": {},
   "outputs": [],
   "source": [
    "#uri 1071\n",
    "x = int(input('digite um valor'))\n",
    "y = int(input('digite outro valor'))\n",
    "if x > y:\n",
    "    x,y = y,x\n",
    "soma = 0\n",
    "for i in range(x+1,y):\n",
    "    if i % 2 != 0:\n",
    "        soma = soma + i"
   ]
  },
  {
   "cell_type": "code",
   "execution_count": 12,
   "metadata": {},
   "outputs": [
    {
     "name": "stdout",
     "output_type": "stream",
     "text": [
      "digite um valor6 \n",
      "digite outro valor-5\n"
     ]
    }
   ],
   "source": [
    "#uri 1071\n",
    "x = int(input('digite um valor'))\n",
    "y = int(input('digite outro valor'))\n",
    "if x > y:\n",
    "    x,y = y,x\n",
    "soma = 0\n",
    "i = x + 1\n",
    "while i < y:\n",
    "    if i % 2 !=0:\n",
    "        soma = soma + i\n",
    "    i = i + 1\n",
    "print(soma)"
   ]
  },
  {
   "cell_type": "code",
   "execution_count": 13,
   "metadata": {},
   "outputs": [
    {
     "name": "stdout",
     "output_type": "stream",
     "text": [
      "5\n"
     ]
    }
   ],
   "source": [
    "print(soma)"
   ]
  },
  {
   "cell_type": "code",
   "execution_count": null,
   "metadata": {},
   "outputs": [],
   "source": []
  }
 ],
 "metadata": {
  "kernelspec": {
   "display_name": "Python 3",
   "language": "python",
   "name": "python3"
  },
  "language_info": {
   "codemirror_mode": {
    "name": "ipython",
    "version": 3
   },
   "file_extension": ".py",
   "mimetype": "text/x-python",
   "name": "python",
   "nbconvert_exporter": "python",
   "pygments_lexer": "ipython3",
   "version": "3.6.10"
  }
 },
 "nbformat": 4,
 "nbformat_minor": 4
}
