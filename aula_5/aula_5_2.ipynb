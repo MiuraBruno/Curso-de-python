{
 "cells": [
  {
   "cell_type": "code",
   "execution_count": 1,
   "metadata": {},
   "outputs": [],
   "source": [
    "#bibliotecas, como usar?"
   ]
  },
  {
   "cell_type": "code",
   "execution_count": 2,
   "metadata": {},
   "outputs": [],
   "source": [
    "#https://docs.python.org/3/library/"
   ]
  },
  {
   "cell_type": "code",
   "execution_count": 3,
   "metadata": {},
   "outputs": [],
   "source": [
    "import time"
   ]
  },
  {
   "cell_type": "code",
   "execution_count": 4,
   "metadata": {},
   "outputs": [
    {
     "data": {
      "text/plain": [
       "['_STRUCT_TM_ITEMS',\n",
       " '__doc__',\n",
       " '__loader__',\n",
       " '__name__',\n",
       " '__package__',\n",
       " '__spec__',\n",
       " 'altzone',\n",
       " 'asctime',\n",
       " 'clock',\n",
       " 'ctime',\n",
       " 'daylight',\n",
       " 'get_clock_info',\n",
       " 'gmtime',\n",
       " 'localtime',\n",
       " 'mktime',\n",
       " 'monotonic',\n",
       " 'perf_counter',\n",
       " 'process_time',\n",
       " 'sleep',\n",
       " 'strftime',\n",
       " 'strptime',\n",
       " 'struct_time',\n",
       " 'time',\n",
       " 'timezone',\n",
       " 'tzname']"
      ]
     },
     "execution_count": 4,
     "metadata": {},
     "output_type": "execute_result"
    }
   ],
   "source": [
    "dir(time)"
   ]
  },
  {
   "cell_type": "code",
   "execution_count": 5,
   "metadata": {},
   "outputs": [
    {
     "data": {
      "text/plain": [
       "1594331292.3228393"
      ]
     },
     "execution_count": 5,
     "metadata": {},
     "output_type": "execute_result"
    }
   ],
   "source": [
    "time.time()"
   ]
  },
  {
   "cell_type": "code",
   "execution_count": 7,
   "metadata": {},
   "outputs": [
    {
     "name": "stdout",
     "output_type": "stream",
     "text": [
      "Caso 0 resultado : 0\n",
      "Caso 1 resultado : 1\n",
      "Caso 2 resultado : 1\n",
      "Caso 3 resultado : 2\n",
      "Caso 4 resultado : 3\n",
      "Caso 5 resultado : 5\n",
      "Caso 6 resultado : 8\n",
      "Caso 7 resultado : 13\n",
      "Caso 8 resultado : 21\n",
      "Caso 9 resultado : 34\n",
      "Caso 10 resultado : 55\n",
      "Caso 11 resultado : 89\n",
      "Caso 12 resultado : 144\n",
      "Caso 13 resultado : 233\n",
      "Caso 14 resultado : 377\n",
      "Caso 15 resultado : 610\n",
      "Caso 16 resultado : 987\n",
      "Caso 17 resultado : 1597\n",
      "Caso 18 resultado : 2584\n",
      "Caso 19 resultado : 4181\n",
      "Caso 20 resultado : 6765\n",
      "Caso 21 resultado : 10946\n",
      "Caso 22 resultado : 17711\n",
      "Caso 23 resultado : 28657\n",
      "Caso 24 resultado : 46368\n",
      "Caso 25 resultado : 75025\n",
      "Caso 26 resultado : 121393\n",
      "Caso 27 resultado : 196418\n",
      "Caso 28 resultado : 317811\n",
      "Caso 29 resultado : 514229\n",
      "Caso 30 resultado : 832040\n",
      "Caso 31 resultado : 1346269\n",
      "Caso 32 resultado : 2178309\n",
      "Caso 33 resultado : 3524578\n",
      "Caso 34 resultado : 5702887\n",
      "Caso 35 resultado : 9227465\n",
      "Caso 36 resultado : 14930352\n",
      "Caso 37 resultado : 24157817\n",
      "Caso 38 resultado : 39088169\n",
      "Caso 39 resultado : 63245986\n",
      "tempo decorrido 1.44\n"
     ]
    }
   ],
   "source": [
    "import time\n",
    "#medir o tempo decorrido sobre um código\n",
    "inicio = time.time()\n",
    "def fib(n):\n",
    "    if n == 0:\n",
    "        return 0\n",
    "    elif n <= 2:\n",
    "        return 1\n",
    "    else:\n",
    "        return fib(n-1) + fib(n-2)\n",
    "def main():\n",
    "    #casos de testes\n",
    "    test = list(range(40))\n",
    "    for i in test:\n",
    "        print('Caso %d resultado : %d' %(i,fib(i)))\n",
    "\n",
    "if __name__ == '__main__':\n",
    "    main()\n",
    "    fim = time.time()\n",
    "    print('tempo decorrido %.2f' %((fim-inicio)/60))"
   ]
  },
  {
   "cell_type": "code",
   "execution_count": 9,
   "metadata": {},
   "outputs": [
    {
     "name": "stdout",
     "output_type": "stream",
     "text": [
      "0\n",
      "1\n",
      "2\n",
      "3\n",
      "4\n",
      "5\n",
      "6\n",
      "7\n",
      "8\n",
      "9\n"
     ]
    }
   ],
   "source": [
    "#pausar o código por alguns instantes\n",
    "for i in range(10):\n",
    "    print(i)\n",
    "    time.sleep(2)"
   ]
  },
  {
   "cell_type": "code",
   "execution_count": 10,
   "metadata": {},
   "outputs": [
    {
     "data": {
      "text/plain": [
       "0"
      ]
     },
     "execution_count": 10,
     "metadata": {},
     "output_type": "execute_result"
    }
   ],
   "source": [
    "#mandar um comando de unix ou powershell\n",
    "import os\n",
    "os.system('mkdir C:\\\\Users\\\\Bruno.Miura\\\\Desktop\\\\CURSO\\\\teste')"
   ]
  },
  {
   "cell_type": "code",
   "execution_count": null,
   "metadata": {},
   "outputs": [],
   "source": [
    "#importando modulos especificos ou todos eles"
   ]
  },
  {
   "cell_type": "code",
   "execution_count": 16,
   "metadata": {},
   "outputs": [],
   "source": [
    "import time as t"
   ]
  },
  {
   "cell_type": "code",
   "execution_count": 15,
   "metadata": {},
   "outputs": [
    {
     "data": {
      "text/plain": [
       "1594331960.619714"
      ]
     },
     "execution_count": 15,
     "metadata": {},
     "output_type": "execute_result"
    }
   ],
   "source": [
    "time()"
   ]
  },
  {
   "cell_type": "code",
   "execution_count": 18,
   "metadata": {},
   "outputs": [],
   "source": [
    "import sklearn"
   ]
  },
  {
   "cell_type": "code",
   "execution_count": 19,
   "metadata": {},
   "outputs": [
    {
     "data": {
      "text/plain": [
       "['__SKLEARN_SETUP__',\n",
       " '__all__',\n",
       " '__builtins__',\n",
       " '__cached__',\n",
       " '__check_build',\n",
       " '__doc__',\n",
       " '__file__',\n",
       " '__loader__',\n",
       " '__name__',\n",
       " '__package__',\n",
       " '__path__',\n",
       " '__spec__',\n",
       " '__version__',\n",
       " '_config',\n",
       " '_distributor_init',\n",
       " 'base',\n",
       " 'clone',\n",
       " 'config_context',\n",
       " 'exceptions',\n",
       " 'get_config',\n",
       " 'logger',\n",
       " 'logging',\n",
       " 'os',\n",
       " 'set_config',\n",
       " 'setup_module',\n",
       " 'show_versions',\n",
       " 'sys',\n",
       " 'utils']"
      ]
     },
     "execution_count": 19,
     "metadata": {},
     "output_type": "execute_result"
    }
   ],
   "source": [
    "dir(sklearn)"
   ]
  },
  {
   "cell_type": "code",
   "execution_count": null,
   "metadata": {},
   "outputs": [],
   "source": [
    "#baixando bibliotecas para seu python em linux e windows\n",
    "#python -m pip install <lib>"
   ]
  },
  {
   "cell_type": "code",
   "execution_count": 20,
   "metadata": {},
   "outputs": [],
   "source": [
    "from math import floor, sqrt"
   ]
  },
  {
   "cell_type": "code",
   "execution_count": null,
   "metadata": {},
   "outputs": [],
   "source": []
  }
 ],
 "metadata": {
  "kernelspec": {
   "display_name": "Python 3",
   "language": "python",
   "name": "python3"
  },
  "language_info": {
   "codemirror_mode": {
    "name": "ipython",
    "version": 3
   },
   "file_extension": ".py",
   "mimetype": "text/x-python",
   "name": "python",
   "nbconvert_exporter": "python",
   "pygments_lexer": "ipython3",
   "version": "3.6.10"
  }
 },
 "nbformat": 4,
 "nbformat_minor": 4
}
