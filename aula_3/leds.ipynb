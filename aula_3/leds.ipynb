{
 "cells": [
  {
   "cell_type": "code",
   "execution_count": null,
   "metadata": {},
   "outputs": [],
   "source": [
    "#hot dog R$5,00\n",
    "#coca cola custa 6,00\n",
    "#chocolate R$ 4,00\n",
    "#agua R$ 3,50\n",
    "#bala R$ 0,15"
   ]
  },
  {
   "cell_type": "code",
   "execution_count": 6,
   "metadata": {},
   "outputs": [],
   "source": [
    "precos = {\n",
    "    'hot-dog':5.0\n",
    "    ,'coca-cola':6.0\n",
    "    ,'chocolate':4.0\n",
    "    ,'agua':3.5\n",
    "    ,'bala':0.15\n",
    "}"
   ]
  },
  {
   "cell_type": "code",
   "execution_count": 16,
   "metadata": {},
   "outputs": [
    {
     "name": "stdout",
     "output_type": "stream",
     "text": [
      "1 agua\n",
      "2 chocolate\n",
      "3 bala\n",
      "0 0\n",
      "total da conta R$ 11.95\n"
     ]
    }
   ],
   "source": [
    "total = 0\n",
    "while True:\n",
    "    produtos = input().split()\n",
    "    if x == ['0','0']:\n",
    "        break\n",
    "    else:\n",
    "        total = total + int(produtos[0]) * precos[produtos[1]]\n",
    "print('total da conta R$ %.2f' %total) "
   ]
  },
  {
   "cell_type": "code",
   "execution_count": 18,
   "metadata": {},
   "outputs": [
    {
     "name": "stdout",
     "output_type": "stream",
     "text": [
      "Informe o produto:\n",
      "bala\n",
      "Informe a quantidade\n",
      "\n",
      "3\n",
      "Informe o produto:\n",
      "chocolate\n",
      "Informe a quantidade\n",
      "\n",
      "10\n",
      "Valor total: 40.45\n"
     ]
    }
   ],
   "source": [
    "items = {'hot-dog': 5, 'coca-cola': 6, 'chocolate': 4, 'agua': 3.5, 'bala': 0.15}\n",
    "cesta = {}\n",
    "\n",
    "for i in range(2):\n",
    "    produto = input('Informe o produto:\\n')\n",
    "    quantidade = int(input('Informe a quantidade\\n\\n'))\n",
    "    cesta[produto] = quantidade\n",
    "total = 0\n",
    "for i, v in cesta.items():\n",
    "    total += v * items[i]\n",
    "    \n",
    "print('Valor total: %.2f' %(total))"
   ]
  },
  {
   "cell_type": "code",
   "execution_count": 14,
   "metadata": {},
   "outputs": [
    {
     "data": {
      "text/plain": [
       "['sdasndjk', 'kamskdmaks', 'akmsdkam']"
      ]
     },
     "execution_count": 14,
     "metadata": {},
     "output_type": "execute_result"
    }
   ],
   "source": [
    "'sdasndjk kamskdmaks akmsdkam'.split()"
   ]
  },
  {
   "cell_type": "code",
   "execution_count": 19,
   "metadata": {},
   "outputs": [],
   "source": [
    "leds = {'1':2\n",
    "        ,'2':5\n",
    "        ,'3':5\n",
    "        ,'4':4\n",
    "        ,'5':5\n",
    "        ,'6':6\n",
    "        ,'7':3\n",
    "        ,'8':7\n",
    "        ,'9':6\n",
    "        ,'0':6\n",
    "       }"
   ]
  },
  {
   "cell_type": "code",
   "execution_count": 22,
   "metadata": {},
   "outputs": [
    {
     "name": "stdout",
     "output_type": "stream",
     "text": [
      "3\n",
      "115380\n",
      "27 leds\n",
      "2819311\n",
      "29 leds\n",
      "23456\n",
      "25 leds\n"
     ]
    }
   ],
   "source": [
    "n = int(input())\n",
    "for i in range(n):\n",
    "    numero = input()\n",
    "    total = 0\n",
    "    for j in numero:\n",
    "        total = total + leds[j]\n",
    "    print('%d leds' %(total))\n",
    "        "
   ]
  },
  {
   "cell_type": "code",
   "execution_count": 21,
   "metadata": {},
   "outputs": [
    {
     "data": {
      "text/plain": [
       "['__add__',\n",
       " '__class__',\n",
       " '__contains__',\n",
       " '__delattr__',\n",
       " '__dir__',\n",
       " '__doc__',\n",
       " '__eq__',\n",
       " '__format__',\n",
       " '__ge__',\n",
       " '__getattribute__',\n",
       " '__getitem__',\n",
       " '__getnewargs__',\n",
       " '__gt__',\n",
       " '__hash__',\n",
       " '__init__',\n",
       " '__init_subclass__',\n",
       " '__iter__',\n",
       " '__le__',\n",
       " '__len__',\n",
       " '__lt__',\n",
       " '__mod__',\n",
       " '__mul__',\n",
       " '__ne__',\n",
       " '__new__',\n",
       " '__reduce__',\n",
       " '__reduce_ex__',\n",
       " '__repr__',\n",
       " '__rmod__',\n",
       " '__rmul__',\n",
       " '__setattr__',\n",
       " '__sizeof__',\n",
       " '__str__',\n",
       " '__subclasshook__',\n",
       " 'capitalize',\n",
       " 'casefold',\n",
       " 'center',\n",
       " 'count',\n",
       " 'encode',\n",
       " 'endswith',\n",
       " 'expandtabs',\n",
       " 'find',\n",
       " 'format',\n",
       " 'format_map',\n",
       " 'index',\n",
       " 'isalnum',\n",
       " 'isalpha',\n",
       " 'isdecimal',\n",
       " 'isdigit',\n",
       " 'isidentifier',\n",
       " 'islower',\n",
       " 'isnumeric',\n",
       " 'isprintable',\n",
       " 'isspace',\n",
       " 'istitle',\n",
       " 'isupper',\n",
       " 'join',\n",
       " 'ljust',\n",
       " 'lower',\n",
       " 'lstrip',\n",
       " 'maketrans',\n",
       " 'partition',\n",
       " 'replace',\n",
       " 'rfind',\n",
       " 'rindex',\n",
       " 'rjust',\n",
       " 'rpartition',\n",
       " 'rsplit',\n",
       " 'rstrip',\n",
       " 'split',\n",
       " 'splitlines',\n",
       " 'startswith',\n",
       " 'strip',\n",
       " 'swapcase',\n",
       " 'title',\n",
       " 'translate',\n",
       " 'upper',\n",
       " 'zfill']"
      ]
     },
     "execution_count": 21,
     "metadata": {},
     "output_type": "execute_result"
    }
   ],
   "source": [
    "dir('12313221')"
   ]
  },
  {
   "cell_type": "code",
   "execution_count": 24,
   "metadata": {},
   "outputs": [
    {
     "data": {
      "text/plain": [
       "'aaaaasdasd'"
      ]
     },
     "execution_count": 24,
     "metadata": {},
     "output_type": "execute_result"
    }
   ],
   "source": [
    "'aAAAAsdasd'.lower()"
   ]
  },
  {
   "cell_type": "code",
   "execution_count": null,
   "metadata": {},
   "outputs": [],
   "source": []
  }
 ],
 "metadata": {
  "kernelspec": {
   "display_name": "Python 3",
   "language": "python",
   "name": "python3"
  },
  "language_info": {
   "codemirror_mode": {
    "name": "ipython",
    "version": 3
   },
   "file_extension": ".py",
   "mimetype": "text/x-python",
   "name": "python",
   "nbconvert_exporter": "python",
   "pygments_lexer": "ipython3",
   "version": "3.6.10"
  }
 },
 "nbformat": 4,
 "nbformat_minor": 4
}
