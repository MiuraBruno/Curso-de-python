{
 "cells": [
  {
   "cell_type": "code",
   "execution_count": null,
   "metadata": {},
   "outputs": [],
   "source": [
    "#jogador 1 \n",
    "#jogador 2\n",
    "#quem ganhou?"
   ]
  },
  {
   "cell_type": "code",
   "execution_count": 37,
   "metadata": {},
   "outputs": [
    {
     "name": "stdout",
     "output_type": "stream",
     "text": [
      "nada\n"
     ]
    }
   ],
   "source": [
    "v = {}\n",
    "if v.get(123) == None:\n",
    "    print('nada')"
   ]
  },
  {
   "cell_type": "code",
   "execution_count": null,
   "metadata": {},
   "outputs": [],
   "source": []
  },
  {
   "cell_type": "code",
   "execution_count": 45,
   "metadata": {},
   "outputs": [
    {
     "name": "stdout",
     "output_type": "stream",
     "text": [
      "11\n",
      "rodou até o final\n"
     ]
    }
   ],
   "source": [
    "# -1/ 0 / 11\n",
    "i = int(input())\n",
    "while i < 10:\n",
    "    i = i + 1\n",
    "    print('xxx')\n",
    "    if i == 0:\n",
    "        break\n",
    "else:\n",
    "    print('rodou até o final')"
   ]
  },
  {
   "cell_type": "code",
   "execution_count": 1,
   "metadata": {},
   "outputs": [
    {
     "name": "stdout",
     "output_type": "stream",
     "text": [
      "informe sua escolha jogador 1:\n",
      "pedra\n",
      "informe sua escolha jogador 2:\n",
      "papel\n",
      "jogador 2 venceu\n",
      "informe sua escolha jogador 1:\n",
      "\n",
      "informe sua escolha jogador 2:\n",
      "\n"
     ]
    }
   ],
   "source": [
    "while True:\n",
    "    possibilidades = {\n",
    "        'pedra papel':2\n",
    "        ,'pedra tesoura': 1\n",
    "        ,'pedra pedra': 0\n",
    "\n",
    "        ,'tesoura papel':1\n",
    "        ,'tesoura tesoura':0\n",
    "        ,'tesoura pedra':2\n",
    "\n",
    "        ,'papel papel':0\n",
    "        ,'papel tesoura':2\n",
    "        ,'papel pedra':1\n",
    "    }\n",
    "\n",
    "\n",
    "    p1 = input('informe sua escolha jogador 1:\\n')\n",
    "    p2 = input('informe sua escolha jogador 2:\\n')\n",
    "    if p1 == '' and p2 == '':\n",
    "        break\n",
    "    else:\n",
    "        if possibilidades.get(p1 + ' ' + p2) == 1:\n",
    "            print('jogador 1 venceu')\n",
    "        elif possibilidades.get(p1 + ' ' + p2) == 2:\n",
    "            print('jogador 2 venceu')\n",
    "        elif possibilidades.get(p1 + ' '+ p2) == 0:\n",
    "            print('empate')\n",
    "        else:\n",
    "            print('dados errados inseridos')\n"
   ]
  },
  {
   "cell_type": "code",
   "execution_count": 4,
   "metadata": {},
   "outputs": [
    {
     "data": {
      "text/plain": [
       "2"
      ]
     },
     "execution_count": 4,
     "metadata": {},
     "output_type": "execute_result"
    }
   ],
   "source": [
    "possibilidades.get('pedra papel')"
   ]
  },
  {
   "cell_type": "code",
   "execution_count": 32,
   "metadata": {},
   "outputs": [],
   "source": [
    "a = {'a','b'}"
   ]
  },
  {
   "cell_type": "code",
   "execution_count": 36,
   "metadata": {},
   "outputs": [
    {
     "data": {
      "text/plain": [
       "set"
      ]
     },
     "execution_count": 36,
     "metadata": {},
     "output_type": "execute_result"
    }
   ],
   "source": [
    "type(a)"
   ]
  },
  {
   "cell_type": "code",
   "execution_count": null,
   "metadata": {},
   "outputs": [],
   "source": []
  }
 ],
 "metadata": {
  "kernelspec": {
   "display_name": "Python 3",
   "language": "python",
   "name": "python3"
  },
  "language_info": {
   "codemirror_mode": {
    "name": "ipython",
    "version": 3
   },
   "file_extension": ".py",
   "mimetype": "text/x-python",
   "name": "python",
   "nbconvert_exporter": "python",
   "pygments_lexer": "ipython3",
   "version": "3.6.10"
  }
 },
 "nbformat": 4,
 "nbformat_minor": 4
}
